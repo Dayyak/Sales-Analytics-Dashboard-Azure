{
 "cells": [
  {
   "cell_type": "markdown",
   "metadata": {
    "application/vnd.databricks.v1+cell": {
     "cellMetadata": {
      "byteLimit": 2048000,
      "rowLimit": 10000
     },
     "inputWidgets": {},
     "nuid": "c0b83850-3106-46f1-9e81-fe4f21b7ea3e",
     "showTitle": false,
     "tableResultSettingsMap": {},
     "title": ""
    }
   },
   "source": [
    "In this stage we will prepare data to be ready to transform to Silver level , thats include: \n",
    "  - Validate schema (check datatypes) and convert object type to correct types (dates, string, number, category)\n",
    "  - Check nulls & duplicates (decide whether to keep, impute, or drop).\n",
    "  - Data entry correction if required.\n",
    "  - Ingestion new data from Mongo like products English name\n",
    "  - Join related tables for consistency checks.\n",
    "  - Move the cleaned data to the Silver layer of the Azure Data Lake."
   ]
  },
  {
   "cell_type": "code",
   "execution_count": 0,
   "metadata": {
    "application/vnd.databricks.v1+cell": {
     "cellMetadata": {
      "byteLimit": 2048000,
      "rowLimit": 10000
     },
     "inputWidgets": {},
     "nuid": "f7ad4e69-105e-4f5b-8c4e-27522db5604b",
     "showTitle": false,
     "tableResultSettingsMap": {},
     "title": ""
    }
   },
   "outputs": [
    {
     "data": {
      "text/plain": [
       "<pyspark.sql.connect.session.SparkSession at 0x7fd90f5a8fa0>"
      ]
     },
     "execution_count": 42,
     "metadata": {},
     "output_type": "execute_result"
    }
   ],
   "source": [
    "spark"
   ]
  },
  {
   "cell_type": "markdown",
   "metadata": {
    "application/vnd.databricks.v1+cell": {
     "cellMetadata": {
      "byteLimit": 2048000,
      "rowLimit": 10000
     },
     "inputWidgets": {},
     "nuid": "2f8528cc-5bb6-4f2d-b5ff-a1a7acc6357a",
     "showTitle": false,
     "tableResultSettingsMap": {},
     "title": ""
    }
   },
   "source": [
    "Establish a Databricks connection configuration to the Bronze storage layer in the Data Lake."
   ]
  },
  {
   "cell_type": "code",
   "execution_count": 0,
   "metadata": {
    "application/vnd.databricks.v1+cell": {
     "cellMetadata": {
      "byteLimit": 2048000,
      "rowLimit": 10000
     },
     "inputWidgets": {},
     "nuid": "aea284c7-a2e5-4ea5-b5ee-60f3672522bf",
     "showTitle": false,
     "tableResultSettingsMap": {},
     "title": ""
    }
   },
   "outputs": [],
   "source": [
    "# Parameters\n",
    "storage_account = \"storage_account\"\n",
    "application_id = \"application_id\"\n",
    "directory_id = \"directory_id\"\n",
    "\n",
    "\n",
    "spark.conf.set(f\"fs.azure.account.auth.type.{storage_account}.dfs.core.windows.net\", \"OAuth\")\n",
    "spark.conf.set(f\"fs.azure.account.oauth.provider.type.{storage_account}.dfs.core.windows.net\", \"org.apache.hadoop.fs.azurebfs.oauth2.ClientCredsTokenProvider\")\n",
    "spark.conf.set(f\"fs.azure.account.oauth2.client.id.{storage_account}.dfs.core.windows.net\", application_id)\n",
    "spark.conf.set(f\"fs.azure.account.oauth2.client.secret.{storage_account}.dfs.core.windows.net\", \"\")\n",
    "spark.conf.set(f\"fs.azure.account.oauth2.client.endpoint.{storage_account}.dfs.core.windows.net\", f\"https://login.microsoftonline.com/{directory_id}/oauth2/token\")"
   ]
  },
  {
   "cell_type": "code",
   "execution_count": 0,
   "metadata": {
    "application/vnd.databricks.v1+cell": {
     "cellMetadata": {
      "byteLimit": 2048000,
      "rowLimit": 10000
     },
     "inputWidgets": {},
     "nuid": "b149d083-5f40-4f57-a76e-9154b39bc4da",
     "showTitle": false,
     "tableResultSettingsMap": {},
     "title": ""
    }
   },
   "outputs": [],
   "source": [
    "import pandas as pd"
   ]
  },
  {
   "cell_type": "code",
   "execution_count": 0,
   "metadata": {
    "application/vnd.databricks.v1+cell": {
     "cellMetadata": {
      "byteLimit": 2048000,
      "rowLimit": 10000
     },
     "inputWidgets": {},
     "nuid": "b4263d8c-0a8e-47ac-a569-138a6890eed8",
     "showTitle": false,
     "tableResultSettingsMap": {},
     "title": ""
    }
   },
   "outputs": [],
   "source": [
    "#%pip install pymongo"
   ]
  },
  {
   "cell_type": "markdown",
   "metadata": {
    "application/vnd.databricks.v1+cell": {
     "cellMetadata": {
      "byteLimit": 2048000,
      "rowLimit": 10000
     },
     "inputWidgets": {},
     "nuid": "9b89617d-5277-478a-bad6-676262b93308",
     "showTitle": false,
     "tableResultSettingsMap": {},
     "title": ""
    }
   },
   "source": [
    "Extract product category names from the external MongoDB resource hosted on filess.io."
   ]
  },
  {
   "cell_type": "code",
   "execution_count": 0,
   "metadata": {
    "application/vnd.databricks.v1+cell": {
     "cellMetadata": {
      "byteLimit": 2048000,
      "rowLimit": 10000
     },
     "inputWidgets": {},
     "nuid": "575d8159-bba8-4356-8e51-0d37ee39cef4",
     "showTitle": false,
     "tableResultSettingsMap": {},
     "title": ""
    }
   },
   "outputs": [],
   "source": [
    "# importing module\n",
    "from pymongo import MongoClient\n",
    "\n",
    "hostname = \"hostname\"\n",
    "database = \"database\"\n",
    "port = \"27018\"\n",
    "username = \"username\"\n",
    "password = \"password\"\n",
    "\n",
    "uri = \"mongodb://\" + username + \":\" + password + \"@\" + hostname + \":\" + port + \"/\" + database\n",
    "\n",
    "# Connect with the portnumber and host\n",
    "client = MongoClient(uri)\n",
    "\n",
    "# Access database\n",
    "mydatabase = client[database]\n",
    "\n",
    "collection = mydatabase[\"product_category\"]\n",
    "product_cat_data_df = spark.createDataFrame([dict(row, _id=str(row['_id'])) for row in collection.find()])"
   ]
  },
  {
   "cell_type": "code",
   "execution_count": 0,
   "metadata": {
    "application/vnd.databricks.v1+cell": {
     "cellMetadata": {
      "byteLimit": 2048000,
      "rowLimit": 10000
     },
     "inputWidgets": {},
     "nuid": "390f3b8b-8b94-4478-8297-cf1daf108579",
     "showTitle": false,
     "tableResultSettingsMap": {},
     "title": ""
    }
   },
   "outputs": [],
   "source": [
    "# Load data from the Bronze layer of the Data Lake into Spark DataFrames.\n",
    "\n",
    "customers_df = spark.read.csv(f\"abfss://ecomdataplatformcontainer@{storage_account}.dfs.core.windows.net/Bronze/customers.csv\", header=True, inferSchema=True)\n",
    "\n",
    "sellers_df = spark.read.csv(f\"abfss://ecomdataplatformcontainer@{storage_account}.dfs.core.windows.net/Bronze/sellers.csv\", header=True, inferSchema=True)\n",
    "\n",
    "orders_df = spark.read.csv(f\"abfss://ecomdataplatformcontainer@{storage_account}.dfs.core.windows.net/Bronze/orders.csv\", header=True, inferSchema=True)\n",
    "\n",
    "order_items_df = spark.read.csv(f\"abfss://ecomdataplatformcontainer@{storage_account}.dfs.core.windows.net/Bronze/order_items.csv\", header=True, inferSchema=True)\n",
    "\n",
    "order_payments_df = spark.read.csv(f\"abfss://ecomdataplatformcontainer@{storage_account}.dfs.core.windows.net/Bronze/order_payments.csv\", header=True, inferSchema=True)\n",
    "\n",
    "order_reviews_df = spark.read.csv(f\"abfss://ecomdataplatformcontainer@{storage_account}.dfs.core.windows.net/Bronze/order_reviews.csv\", header=True, inferSchema=True)\n",
    "\n",
    "products_df = spark.read.csv(f\"abfss://ecomdataplatformcontainer@{storage_account}.dfs.core.windows.net/Bronze/products.csv\", header=True, inferSchema=True)"
   ]
  },
  {
   "cell_type": "markdown",
   "metadata": {
    "application/vnd.databricks.v1+cell": {
     "cellMetadata": {
      "byteLimit": 2048000,
      "rowLimit": 10000
     },
     "inputWidgets": {},
     "nuid": "5782ccda-9ec8-4fe5-9b26-b6f38c9644eb",
     "showTitle": false,
     "tableResultSettingsMap": {},
     "title": ""
    }
   },
   "source": [
    "Validate schema (check datatypes match expectations)"
   ]
  },
  {
   "cell_type": "code",
   "execution_count": 0,
   "metadata": {
    "application/vnd.databricks.v1+cell": {
     "cellMetadata": {
      "byteLimit": 2048000,
      "rowLimit": 10000
     },
     "inputWidgets": {},
     "nuid": "d5c1b490-a373-4c24-bcd1-a91161984b52",
     "showTitle": false,
     "tableResultSettingsMap": {},
     "title": ""
    }
   },
   "outputs": [],
   "source": [
    "from pyspark.sql.functions import col\n",
    "\n",
    "# Orders\n",
    "orders_df = (orders_df\n",
    "    .withColumn(\"order_id\", col(\"order_id\").cast(\"string\"))\n",
    "    .withColumn(\"customer_id\", col(\"customer_id\").cast(\"string\"))\n",
    "    .withColumn(\"order_status\", col(\"order_status\").cast(\"string\"))  \n",
    ")\n",
    "\n",
    "# Order Items\n",
    "order_items_df = (order_items_df\n",
    "    .withColumn(\"order_id\", col(\"order_id\").cast(\"string\"))\n",
    "    .withColumn(\"product_id\", col(\"product_id\").cast(\"string\"))\n",
    "    .withColumn(\"seller_id\", col(\"seller_id\").cast(\"string\"))\n",
    ")\n",
    "\n",
    "# Payments\n",
    "order_payments_df = (order_payments_df\n",
    "    .withColumn(\"order_id\", col(\"order_id\").cast(\"string\"))\n",
    "    .withColumn(\"payment_type\", col(\"payment_type\").cast(\"string\"))  \n",
    ")\n",
    "\n",
    "# Reviews\n",
    "order_reviews_df = (order_reviews_df\n",
    "    .withColumn(\"order_id\", col(\"order_id\").cast(\"string\"))\n",
    "    .withColumn(\"review_id\", col(\"review_id\").cast(\"string\"))\n",
    "    .withColumn(\"review_score\", col(\"review_score\").cast(\"string\"))\n",
    "    .withColumn(\"review_comment_title\", col(\"review_comment_title\").cast(\"string\"))\n",
    "    .withColumn(\"review_comment_message\", col(\"review_comment_message\").cast(\"string\"))\n",
    "    .withColumn(\"review_creation_date\", col(\"review_creation_date\").cast(\"timestamp\"))\n",
    "    .withColumn(\"review_answer_timestamp\", col(\"review_answer_timestamp\").cast(\"timestamp\"))\n",
    ")\n",
    "\n",
    "# Products\n",
    "products_df = (products_df\n",
    "    .withColumn(\"product_id\", col(\"product_id\").cast(\"string\"))\n",
    "    .withColumn(\"product_category_name\", col(\"product_category_name\").cast(\"string\"))\n",
    ")\n",
    "\n",
    "# Sellers\n",
    "sellers_df = (sellers_df\n",
    "    .withColumn(\"seller_id\", col(\"seller_id\").cast(\"string\"))\n",
    "    .withColumn(\"seller_city\", col(\"seller_city\").cast(\"string\"))\n",
    "    .withColumn(\"seller_state\", col(\"seller_state\").cast(\"string\"))\n",
    ")\n",
    "\n",
    "# Customers\n",
    "customers_df = (customers_df\n",
    "    .withColumn(\"customer_id\", col(\"customer_id\").cast(\"string\"))\n",
    "    .withColumn(\"customer_unique_id\", col(\"customer_unique_id\").cast(\"string\"))\n",
    "    .withColumn(\"customer_city\", col(\"customer_city\").cast(\"string\"))\n",
    "    .withColumn(\"customer_state\", col(\"customer_state\").cast(\"string\"))\n",
    ")\n",
    "\n",
    "# Product category translation\n",
    "product_cat_data_df = (product_cat_data_df\n",
    "    .withColumn(\"product_category_name\", col(\"product_category_name\").cast(\"string\"))\n",
    "    .withColumn(\"product_category_name_english\", col(\"product_category_name_english\").cast(\"string\"))\n",
    ")\n"
   ]
  },
  {
   "cell_type": "markdown",
   "metadata": {
    "application/vnd.databricks.v1+cell": {
     "cellMetadata": {
      "byteLimit": 2048000,
      "rowLimit": 10000
     },
     "inputWidgets": {},
     "nuid": "9f1479e1-8df2-45e0-b752-cf3c4c64f883",
     "showTitle": false,
     "tableResultSettingsMap": {},
     "title": ""
    }
   },
   "source": [
    "An Overview from the Data"
   ]
  },
  {
   "cell_type": "code",
   "execution_count": 0,
   "metadata": {
    "application/vnd.databricks.v1+cell": {
     "cellMetadata": {
      "byteLimit": 2048000,
      "rowLimit": 10000
     },
     "inputWidgets": {},
     "nuid": "b64aa92b-da00-4c6e-9065-4783ad218de3",
     "showTitle": false,
     "tableResultSettingsMap": {},
     "title": ""
    }
   },
   "outputs": [
    {
     "data": {
      "text/html": [
       "<style scoped>\n",
       "  .table-result-container {\n",
       "    max-height: 300px;\n",
       "    overflow: auto;\n",
       "  }\n",
       "  table, th, td {\n",
       "    border: 1px solid black;\n",
       "    border-collapse: collapse;\n",
       "  }\n",
       "  th, td {\n",
       "    padding: 5px;\n",
       "  }\n",
       "  th {\n",
       "    text-align: left;\n",
       "  }\n",
       "</style><div class='table-result-container'><table class='table-result'><thead style='background-color: white'><tr><th>table</th><th>rows</th><th>cols</th><th>duplicates</th><th>nulls</th></tr></thead><tbody><tr><td>customers</td><td>99441</td><td>5</td><td>0</td><td>List(null, null, null, null, null, null, null, null, null, null, null, null, null, null, null, null, null, null)</td></tr><tr><td>sellers</td><td>3095</td><td>4</td><td>0</td><td>List(null, null, null, null, null, null, null, null, null, null, null, null, null, null, null, null, null, null)</td></tr><tr><td>orders</td><td>99441</td><td>8</td><td>0</td><td>List(160, 1783, 2965, null, null, null, null, null, null, null, null, null, null, null, null, null, null, null)</td></tr><tr><td>order_items</td><td>112650</td><td>7</td><td>0</td><td>List(null, null, null, null, null, null, null, null, null, null, null, null, null, null, null, null, null, null)</td></tr><tr><td>order_payments</td><td>103886</td><td>5</td><td>0</td><td>List(null, null, null, null, null, null, null, null, null, null, null, null, null, null, null, null, null, null)</td></tr><tr><td>order_reviews</td><td>104162</td><td>7</td><td>85</td><td>List(null, null, null, 2236, null, null, null, null, null, null, null, null, 8803, 63079, 92157, 8832, 1, 2380)</td></tr><tr><td>products</td><td>32951</td><td>9</td><td>0</td><td>List(null, null, null, null, 610, 610, 2, 2, 610, 610, 2, 2, null, null, null, null, null, null)</td></tr></tbody></table></div>"
      ]
     },
     "metadata": {
      "application/vnd.databricks.v1+output": {
       "addedWidgets": {},
       "aggData": [],
       "aggError": "",
       "aggOverflow": false,
       "aggSchema": [],
       "aggSeriesLimitReached": false,
       "aggType": "",
       "arguments": {},
       "columnCustomDisplayInfos": {},
       "data": [
        [
         "customers",
         99441,
         5,
         0,
         [
          null,
          null,
          null,
          null,
          null,
          null,
          null,
          null,
          null,
          null,
          null,
          null,
          null,
          null,
          null,
          null,
          null,
          null
         ]
        ],
        [
         "sellers",
         3095,
         4,
         0,
         [
          null,
          null,
          null,
          null,
          null,
          null,
          null,
          null,
          null,
          null,
          null,
          null,
          null,
          null,
          null,
          null,
          null,
          null
         ]
        ],
        [
         "orders",
         99441,
         8,
         0,
         [
          160,
          1783,
          2965,
          null,
          null,
          null,
          null,
          null,
          null,
          null,
          null,
          null,
          null,
          null,
          null,
          null,
          null,
          null
         ]
        ],
        [
         "order_items",
         112650,
         7,
         0,
         [
          null,
          null,
          null,
          null,
          null,
          null,
          null,
          null,
          null,
          null,
          null,
          null,
          null,
          null,
          null,
          null,
          null,
          null
         ]
        ],
        [
         "order_payments",
         103886,
         5,
         0,
         [
          null,
          null,
          null,
          null,
          null,
          null,
          null,
          null,
          null,
          null,
          null,
          null,
          null,
          null,
          null,
          null,
          null,
          null
         ]
        ],
        [
         "order_reviews",
         104162,
         7,
         85,
         [
          null,
          null,
          null,
          2236,
          null,
          null,
          null,
          null,
          null,
          null,
          null,
          null,
          8803,
          63079,
          92157,
          8832,
          1,
          2380
         ]
        ],
        [
         "products",
         32951,
         9,
         0,
         [
          null,
          null,
          null,
          null,
          610,
          610,
          2,
          2,
          610,
          610,
          2,
          2,
          null,
          null,
          null,
          null,
          null,
          null
         ]
        ]
       ],
       "datasetInfos": [],
       "dbfsResultPath": null,
       "isJsonSchema": true,
       "metadata": {},
       "overflow": false,
       "plotOptions": {
        "customPlotOptions": {},
        "displayType": "table",
        "pivotAggregation": null,
        "pivotColumns": null,
        "xColumns": null,
        "yColumns": null
       },
       "removedWidgets": [],
       "schema": [
        {
         "metadata": "{}",
         "name": "table",
         "type": "\"string\""
        },
        {
         "metadata": "{}",
         "name": "rows",
         "type": "\"long\""
        },
        {
         "metadata": "{}",
         "name": "cols",
         "type": "\"long\""
        },
        {
         "metadata": "{}",
         "name": "duplicates",
         "type": "\"long\""
        },
        {
         "metadata": "{}",
         "name": "nulls",
         "type": "{\"type\":\"struct\",\"fields\":[{\"name\":\"order_approved_at\",\"type\":\"long\",\"nullable\":true,\"metadata\":{}},{\"name\":\"order_delivered_carrier_date\",\"type\":\"long\",\"nullable\":true,\"metadata\":{}},{\"name\":\"order_delivered_customer_date\",\"type\":\"long\",\"nullable\":true,\"metadata\":{}},{\"name\":\"order_id\",\"type\":\"long\",\"nullable\":true,\"metadata\":{}},{\"name\":\"product_category_name\",\"type\":\"long\",\"nullable\":true,\"metadata\":{}},{\"name\":\"product_description_lenght\",\"type\":\"long\",\"nullable\":true,\"metadata\":{}},{\"name\":\"product_height_cm\",\"type\":\"long\",\"nullable\":true,\"metadata\":{}},{\"name\":\"product_length_cm\",\"type\":\"long\",\"nullable\":true,\"metadata\":{}},{\"name\":\"product_name_lenght\",\"type\":\"long\",\"nullable\":true,\"metadata\":{}},{\"name\":\"product_photos_qty\",\"type\":\"long\",\"nullable\":true,\"metadata\":{}},{\"name\":\"product_weight_g\",\"type\":\"long\",\"nullable\":true,\"metadata\":{}},{\"name\":\"product_width_cm\",\"type\":\"long\",\"nullable\":true,\"metadata\":{}},{\"name\":\"review_answer_timestamp\",\"type\":\"long\",\"nullable\":true,\"metadata\":{}},{\"name\":\"review_comment_message\",\"type\":\"long\",\"nullable\":true,\"metadata\":{}},{\"name\":\"review_comment_title\",\"type\":\"long\",\"nullable\":true,\"metadata\":{}},{\"name\":\"review_creation_date\",\"type\":\"long\",\"nullable\":true,\"metadata\":{}},{\"name\":\"review_id\",\"type\":\"long\",\"nullable\":true,\"metadata\":{}},{\"name\":\"review_score\",\"type\":\"long\",\"nullable\":true,\"metadata\":{}}]}"
        }
       ],
       "type": "table"
      }
     },
     "output_type": "display_data"
    }
   ],
   "source": [
    "from pyspark.sql import functions as F\n",
    "\n",
    "tables = {\n",
    "    \"customers\": customers_df,\n",
    "    \"sellers\": sellers_df,\n",
    "    \"orders\": orders_df,\n",
    "    \"order_items\": order_items_df,\n",
    "    \"order_payments\": order_payments_df,\n",
    "    \"order_reviews\": order_reviews_df,\n",
    "    \"products\": products_df\n",
    "}\n",
    "\n",
    "summary = []\n",
    "\n",
    "for name, df in tables.items():\n",
    "    row_count = df.count()\n",
    "    col_count = len(df.columns)\n",
    "    \n",
    "    # Count duplicates (by all columns)\n",
    "    dup_count = row_count - df.dropDuplicates().count()\n",
    "    \n",
    "    # Count nulls per column\n",
    "    nulls = {}\n",
    "    for col_name in df.columns:\n",
    "        null_count = df.filter(F.col(col_name).isNull()).count()\n",
    "        if null_count > 0:\n",
    "            nulls[col_name] = null_count\n",
    "    \n",
    "    summary.append({\n",
    "        \"table\": name,\n",
    "        \"rows\": row_count,\n",
    "        \"cols\": col_count,\n",
    "        \"duplicates\": dup_count,\n",
    "        \"nulls\": nulls\n",
    "    })\n",
    "\n",
    "# Convert summary into Spark DataFrame\n",
    "summary_df = spark.createDataFrame(pd.DataFrame(summary))\n",
    "display(summary_df)\n"
   ]
  },
  {
   "cell_type": "markdown",
   "metadata": {
    "application/vnd.databricks.v1+cell": {
     "cellMetadata": {
      "byteLimit": 2048000,
      "rowLimit": 10000
     },
     "inputWidgets": {},
     "nuid": "78a42ec2-fc45-4a81-8b03-f8eddaf56e27",
     "showTitle": false,
     "tableResultSettingsMap": {},
     "title": ""
    }
   },
   "source": [
    "No duplicate records were found except in the Order Reviews table, where they will be removed."
   ]
  },
  {
   "cell_type": "code",
   "execution_count": 0,
   "metadata": {
    "application/vnd.databricks.v1+cell": {
     "cellMetadata": {
      "byteLimit": 2048000,
      "rowLimit": 10000
     },
     "inputWidgets": {},
     "nuid": "a3a25c69-ff6b-4e54-89e5-141178ecc265",
     "showTitle": false,
     "tableResultSettingsMap": {},
     "title": ""
    }
   },
   "outputs": [],
   "source": [
    "order_reviews_df = order_reviews_df.dropDuplicates()"
   ]
  },
  {
   "cell_type": "code",
   "execution_count": 0,
   "metadata": {
    "application/vnd.databricks.v1+cell": {
     "cellMetadata": {
      "byteLimit": 2048000,
      "rowLimit": 10000
     },
     "inputWidgets": {},
     "nuid": "70208c23-8038-4315-87e4-de89ba1230c8",
     "showTitle": false,
     "tableResultSettingsMap": {
      "0": {
       "dataGridStateBlob": "{\"version\":1,\"tableState\":{\"columnPinning\":{\"left\":[\"#row_number#\"],\"right\":[]},\"columnSizing\":{},\"columnVisibility\":{}},\"settings\":{\"columns\":{}},\"syncTimestamp\":1758096714740}",
       "filterBlob": null,
       "queryPlanFiltersBlob": null,
       "tableResultIndex": 0
      }
     },
     "title": ""
    }
   },
   "outputs": [
    {
     "data": {
      "text/html": [
       "<style scoped>\n",
       "  .table-result-container {\n",
       "    max-height: 300px;\n",
       "    overflow: auto;\n",
       "  }\n",
       "  table, th, td {\n",
       "    border: 1px solid black;\n",
       "    border-collapse: collapse;\n",
       "  }\n",
       "  th, td {\n",
       "    padding: 5px;\n",
       "  }\n",
       "  th {\n",
       "    text-align: left;\n",
       "  }\n",
       "</style><div class='table-result-container'><table class='table-result'><thead style='background-color: white'><tr><th>table</th><th>column</th><th>rows</th><th>null_count</th><th>null_percent</th></tr></thead><tbody><tr><td>orders</td><td>order_approved_at</td><td>99441</td><td>160</td><td>0.16</td></tr><tr><td>orders</td><td>order_delivered_carrier_date</td><td>99441</td><td>1783</td><td>1.79</td></tr><tr><td>orders</td><td>order_delivered_customer_date</td><td>99441</td><td>2965</td><td>2.98</td></tr><tr><td>order_reviews</td><td>review_id</td><td>104162</td><td>1</td><td>0.0</td></tr><tr><td>order_reviews</td><td>order_id</td><td>104162</td><td>2236</td><td>2.15</td></tr><tr><td>order_reviews</td><td>review_score</td><td>104162</td><td>2380</td><td>2.28</td></tr><tr><td>order_reviews</td><td>review_comment_title</td><td>104162</td><td>92157</td><td>88.47</td></tr><tr><td>order_reviews</td><td>review_comment_message</td><td>104162</td><td>63079</td><td>60.56</td></tr><tr><td>order_reviews</td><td>review_creation_date</td><td>104162</td><td>8832</td><td>8.48</td></tr><tr><td>order_reviews</td><td>review_answer_timestamp</td><td>104162</td><td>8803</td><td>8.45</td></tr><tr><td>products</td><td>product_category_name</td><td>32951</td><td>610</td><td>1.85</td></tr><tr><td>products</td><td>product_name_lenght</td><td>32951</td><td>610</td><td>1.85</td></tr><tr><td>products</td><td>product_description_lenght</td><td>32951</td><td>610</td><td>1.85</td></tr><tr><td>products</td><td>product_photos_qty</td><td>32951</td><td>610</td><td>1.85</td></tr><tr><td>products</td><td>product_weight_g</td><td>32951</td><td>2</td><td>0.01</td></tr><tr><td>products</td><td>product_length_cm</td><td>32951</td><td>2</td><td>0.01</td></tr><tr><td>products</td><td>product_height_cm</td><td>32951</td><td>2</td><td>0.01</td></tr><tr><td>products</td><td>product_width_cm</td><td>32951</td><td>2</td><td>0.01</td></tr></tbody></table></div>"
      ]
     },
     "metadata": {
      "application/vnd.databricks.v1+output": {
       "addedWidgets": {},
       "aggData": [],
       "aggError": "",
       "aggOverflow": false,
       "aggSchema": [],
       "aggSeriesLimitReached": false,
       "aggType": "",
       "arguments": {},
       "columnCustomDisplayInfos": {},
       "data": [
        [
         "orders",
         "order_approved_at",
         99441,
         160,
         0.16
        ],
        [
         "orders",
         "order_delivered_carrier_date",
         99441,
         1783,
         1.79
        ],
        [
         "orders",
         "order_delivered_customer_date",
         99441,
         2965,
         2.98
        ],
        [
         "order_reviews",
         "review_id",
         104162,
         1,
         0
        ],
        [
         "order_reviews",
         "order_id",
         104162,
         2236,
         2.15
        ],
        [
         "order_reviews",
         "review_score",
         104162,
         2380,
         2.28
        ],
        [
         "order_reviews",
         "review_comment_title",
         104162,
         92157,
         88.47
        ],
        [
         "order_reviews",
         "review_comment_message",
         104162,
         63079,
         60.56
        ],
        [
         "order_reviews",
         "review_creation_date",
         104162,
         8832,
         8.48
        ],
        [
         "order_reviews",
         "review_answer_timestamp",
         104162,
         8803,
         8.45
        ],
        [
         "products",
         "product_category_name",
         32951,
         610,
         1.85
        ],
        [
         "products",
         "product_name_lenght",
         32951,
         610,
         1.85
        ],
        [
         "products",
         "product_description_lenght",
         32951,
         610,
         1.85
        ],
        [
         "products",
         "product_photos_qty",
         32951,
         610,
         1.85
        ],
        [
         "products",
         "product_weight_g",
         32951,
         2,
         0.01
        ],
        [
         "products",
         "product_length_cm",
         32951,
         2,
         0.01
        ],
        [
         "products",
         "product_height_cm",
         32951,
         2,
         0.01
        ],
        [
         "products",
         "product_width_cm",
         32951,
         2,
         0.01
        ]
       ],
       "datasetInfos": [],
       "dbfsResultPath": null,
       "isJsonSchema": true,
       "metadata": {},
       "overflow": false,
       "plotOptions": {
        "customPlotOptions": {},
        "displayType": "table",
        "pivotAggregation": null,
        "pivotColumns": null,
        "xColumns": null,
        "yColumns": null
       },
       "removedWidgets": [],
       "schema": [
        {
         "metadata": "{}",
         "name": "table",
         "type": "\"string\""
        },
        {
         "metadata": "{}",
         "name": "column",
         "type": "\"string\""
        },
        {
         "metadata": "{}",
         "name": "rows",
         "type": "\"long\""
        },
        {
         "metadata": "{}",
         "name": "null_count",
         "type": "\"long\""
        },
        {
         "metadata": "{}",
         "name": "null_percent",
         "type": "\"double\""
        }
       ],
       "type": "table"
      }
     },
     "output_type": "display_data"
    }
   ],
   "source": [
    "details = []\n",
    "\n",
    "for name, df in tables.items():\n",
    "    row_count = df.count()\n",
    "\n",
    "    # Null counts for all columns in one pass\n",
    "    null_counts = df.select([\n",
    "        F.sum(F.col(c).isNull().cast(\"int\")).alias(c) for c in df.columns\n",
    "    ]).collect()[0].asDict()\n",
    "\n",
    "    for col_name, null_count in null_counts.items():\n",
    "        if null_count > 0:\n",
    "            details.append({\n",
    "                \"table\": name,\n",
    "                \"column\": col_name,\n",
    "                \"rows\": row_count,\n",
    "                \"null_count\": int(null_count),\n",
    "                \"null_percent\": round(null_count / row_count * 100, 2)\n",
    "            })\n",
    "\n",
    "# Convert to Spark DataFrame\n",
    "summary_df = spark.createDataFrame(pd.DataFrame(details))\n",
    "display(summary_df)\n"
   ]
  },
  {
   "cell_type": "markdown",
   "metadata": {
    "application/vnd.databricks.v1+cell": {
     "cellMetadata": {
      "byteLimit": 2048000,
      "rowLimit": 10000
     },
     "inputWidgets": {},
     "nuid": "d46c92e8-5615-42cf-b5e5-7e94b0034cc7",
     "showTitle": false,
     "tableResultSettingsMap": {},
     "title": ""
    }
   },
   "source": [
    "**Orders Review Table**\n",
    "- Since many customers provide only a score without written feedback, this explains the presence of null values in most columns.\n",
    "\n",
    "**Product Table**\n",
    "- The null values are consistent across all affected columns, indicating that 32,951 products are not categorized. This may suggest that these products do not belong to any defined category, or the category information is missing. Further checks and investigation will be conducted. Other nulls may have been inherited from the missing category information. For now, they will be left as is, since they do not affect the analysis, and will be eliminated later if they are not used."
   ]
  },
  {
   "cell_type": "code",
   "execution_count": 0,
   "metadata": {
    "application/vnd.databricks.v1+cell": {
     "cellMetadata": {
      "byteLimit": 2048000,
      "rowLimit": 10000
     },
     "inputWidgets": {},
     "nuid": "754702aa-63b6-402e-aedc-856b0c2fc91b",
     "showTitle": false,
     "tableResultSettingsMap": {},
     "title": ""
    }
   },
   "outputs": [],
   "source": [
    "# Orders + Customers (drop duplicate customer_id from right table)\n",
    "orders_customers_df = orders_df.join(\n",
    "    customers_df,\n",
    "    orders_df.customer_id == customers_df.customer_id,\n",
    "    \"left\"\n",
    ").drop(customers_df.customer_id)\n",
    "\n",
    "# Add Payments (drop duplicate order_id from right table)\n",
    "orders_payments_df = orders_customers_df.join(\n",
    "    order_payments_df,\n",
    "    orders_customers_df.order_id == order_payments_df.order_id,\n",
    "    \"left\"\n",
    ").drop(order_payments_df.order_id)\n",
    "\n",
    "# Add Order Items (drop duplicate order_id from right table)\n",
    "orders_items_df = orders_payments_df.join(\n",
    "    order_items_df,\n",
    "    orders_payments_df.order_id == order_items_df.order_id,\n",
    "    \"left\"\n",
    ").drop(order_items_df.order_id)\n",
    "\n",
    "# Add Reviews (drop duplicate order_id from right table)\n",
    "orders_reviews_df = orders_items_df.join(\n",
    "    order_reviews_df,\n",
    "    orders_items_df.order_id == order_reviews_df.order_id,\n",
    "    \"left\"\n",
    ").drop(order_reviews_df.order_id)\n",
    "\n",
    "# Add Products (drop duplicate product_id from right table)\n",
    "orders_products_df = orders_reviews_df.join(\n",
    "    products_df,\n",
    "    orders_reviews_df.product_id == products_df.product_id,\n",
    "    \"left\"\n",
    ").drop(products_df.product_id)\n",
    "\n",
    "# Add Product Categories (drop duplicate product_category_name from right table)\n",
    "orders_products_all_df = orders_products_df.join(\n",
    "    product_cat_data_df,\n",
    "    orders_products_df.product_category_name == product_cat_data_df.product_category_name,\n",
    "    \"left\"\n",
    ").drop(product_cat_data_df.product_category_name)\n",
    "\n",
    "# Add Sellers (drop duplicate seller_id from right table)\n",
    "final_df = orders_products_all_df.join(\n",
    "    sellers_df,\n",
    "    orders_products_all_df.seller_id == sellers_df.seller_id,\n",
    "    \"left\"\n",
    ").drop(sellers_df.seller_id)"
   ]
  },
  {
   "cell_type": "markdown",
   "metadata": {
    "application/vnd.databricks.v1+cell": {
     "cellMetadata": {
      "byteLimit": 2048000,
      "rowLimit": 10000
     },
     "inputWidgets": {},
     "nuid": "afc3657e-d129-4e2b-9e39-0a0ee5861301",
     "showTitle": false,
     "tableResultSettingsMap": {},
     "title": ""
    }
   },
   "source": [
    "Transport the processed data final file to the silver folder in Azure cloude"
   ]
  },
  {
   "cell_type": "code",
   "execution_count": 0,
   "metadata": {
    "application/vnd.databricks.v1+cell": {
     "cellMetadata": {
      "byteLimit": 2048000,
      "rowLimit": 10000
     },
     "inputWidgets": {},
     "nuid": "a215ac07-cd9d-4039-9632-9cc95f55ba0b",
     "showTitle": false,
     "tableResultSettingsMap": {},
     "title": ""
    }
   },
   "outputs": [],
   "source": [
    "final_df.write.mode(\"overwrite\").parquet(f\"abfss://ecomdataplatformcontainer@{storage_account}.dfs.core.windows.net/Silver\")"
   ]
  }
 ],
 "metadata": {
  "application/vnd.databricks.v1+notebook": {
   "computePreferences": null,
   "dashboards": [],
   "environmentMetadata": {
    "base_environment": "",
    "environment_version": "3"
   },
   "inputWidgetPreferences": null,
   "language": "python",
   "notebookMetadata": {
    "pythonIndentUnit": 4
   },
   "notebookName": "Bronze lvl Data Processing",
   "widgets": {}
  },
  "language_info": {
   "name": "python"
  }
 },
 "nbformat": 4,
 "nbformat_minor": 0
}
